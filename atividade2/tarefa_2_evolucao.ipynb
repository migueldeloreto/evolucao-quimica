{
 "cells": [
  {
   "cell_type": "markdown",
   "metadata": {},
   "source": [
    "# Homework 2"
   ]
  },
  {
   "cell_type": "markdown",
   "metadata": {},
   "source": [
    "The ⁴$\\text{He}$ abundance is given by mass fraction, but the others are by number. Compute the\n",
    "primordial ⁴He abundance in the linear scale, $n(⁴\\text{He})/n(\\text{H})$, and compute the others in the log\n",
    "scale where $A_\\text{H}= 12$."
   ]
  },
  {
   "cell_type": "code",
   "execution_count": 2,
   "metadata": {},
   "outputs": [
    {
     "name": "stdout",
     "output_type": "stream",
     "text": [
      "0.08196563491747334\n",
      "7.409933123331294\n",
      "8.001300933020417\n",
      "7.6739419986340875\n"
     ]
    }
   ],
   "source": [
    "import numpy as np\n",
    "\n",
    "yp=0.24691\n",
    "d_h=2.57e-5\n",
    "helio3_h=10.03e-5\n",
    "litio7_h=4.72e-5\n",
    "\n",
    "razao_helio4=0.25*(yp/(1-yp))\n",
    "abundancia_deuterio=np.log10(d_h)+12\n",
    "abundancia_helio3=np.log10(helio3_h)+12\n",
    "abundancia_litio=np.log10(litio7_h)+12\n",
    "\n",
    "print(razao_helio4)\n",
    "print(abundancia_deuterio)\n",
    "print(abundancia_helio3)\n",
    "print(abundancia_litio)"
   ]
  },
  {
   "cell_type": "markdown",
   "metadata": {},
   "source": [
    "Use the whole dataset to compute in the linear scale, the following quantities for (A) to (C):\n",
    "\n",
    "A) average linear D/H value\n",
    "\n",
    "B) median linear D/H value\n",
    "\n",
    "C) weighted mean of linear D/H (as weights, use the square of the inverse error bars, 1/$\\sigma^2$).\n",
    "\n",
    "D) Compute the average value using only the results recommended in the last column.\n",
    "\n",
    "E) Which value from (A) to (C) agree better with the result from (D)?\n",
    "\n",
    "F) Which value from (A) to (C) agree better with the BBN prediction from Fields et al. (2020)?\n",
    "\n",
    "G) Using the table above, make a plot of D/H vs. [O/H] including the error bars in D/H. Plot a horizontal\n",
    "solid red line showing the central value of the BBN prediction from Fields et al. (2020) and horizontal\n",
    "red dashed lines with +/- the error of the prediction. Include also a dotted blue horizontal line with your\n",
    "answer from (F)."
   ]
  },
  {
   "cell_type": "code",
   "execution_count": 3,
   "metadata": {},
   "outputs": [
    {
     "name": "stdout",
     "output_type": "stream",
     "text": [
      "A) A média de D/H é 2.404e-05\n",
      "B) A mediana de D/H é 2.477e-05\n",
      "[0.88715601 0.92044957 0.94623716 0.95940063 0.88715601 0.9332543\n",
      " 0.94623716 0.73451387 0.63095734 0.79432823 0.50118723 0.54954087\n",
      " 0.63095734 0.87902252 0.96382902 0.73790423 0.93756201]\n",
      "C) A média ponderada (pelas incertezas nas medidas) de log(D/H) é 2.462e-05\n",
      "D) A média de log(D/H) utilizando valores que satisfizeram o critério é 2.447e-05\n",
      "E) A diferença entre A) e D) é 4.219e-07\n",
      "   A diferença entre B) e D) é 3.089e-07\n",
      "   A diferença entre C) e D) é 1.518e-07\n",
      "   Logo o resultado de C) é o que mais concorda com D)\n",
      "F) A diferença entre A) e Fields et. al (2020) é 1.657e-06\n",
      "   A diferença entre B) e Fields et. al (2020) é 9.258e-07\n",
      "   A diferença entre C) e Fields et. al (2020) é 1.083e-06\n",
      "   Logo o resultado de B) é o que mais concorda com Fields et. al (2020)\n"
     ]
    },
    {
     "name": "stderr",
     "output_type": "stream",
     "text": [
      "/home/migueldeloreto/.local/lib/python3.10/site-packages/matplotlib/projections/__init__.py:63: UserWarning: Unable to import Axes3D. This may be due to multiple versions of Matplotlib being installed (e.g. as a system package and as a pip package). As a result, the 3D projection is not available.\n",
      "  warnings.warn(\"Unable to import Axes3D. This may be due to multiple versions of \"\n"
     ]
    },
    {
     "data": {
      "image/png": "[encoded data removed]",
      "text/plain": [
       "<Figure size 576x360 with 1 Axes>"
      ]
     },
     "metadata": {
      "needs_background": "light"
     },
     "output_type": "display_data"
    }
   ],
   "source": [
    "import pandas as pd\n",
    "import matplotlib.pyplot as plt\n",
    "\n",
    "bbn=pd.read_csv(\"bbn_data.csv\", names=['QSO', '[O/H]', 'log(D/H)', 'errlog(D/H)','Reference', 'Meet Criteria?'], header=0)\n",
    "linear= 10**(np.array(bbn['log(D/H)']))\n",
    "print(\"A) A média de D/H é {:.3e}\".format(np.mean(linear)))\n",
    "print(\"B) A mediana de D/H é {:.3e}\".format(np.median(linear)))\n",
    "\n",
    "pesos=1/((10**(np.array(bbn['errlog(D/H)'])))**2)\n",
    "print(pesos)\n",
    "ponderada=sum(linear*pesos)/sum(pesos)\n",
    "print(\"C) A média ponderada (pelas incertezas nas medidas) de log(D/H) é {:.3e}\".format(ponderada))\n",
    "\n",
    "bbn_filtrado=bbn[bbn['Meet Criteria?'] == 1]\n",
    "linear_filtrado=(10**(np.array(bbn_filtrado['log(D/H)'])))\n",
    "print(\"D) A média de log(D/H) utilizando valores que satisfizeram o critério é {:.3e}\".format(np.mean(linear_filtrado)))\n",
    "a_d=abs(np.mean(linear) - np.mean(linear_filtrado))\n",
    "b_d=abs(np.median(linear) - np.mean(linear_filtrado))\n",
    "c_d=abs(ponderada - np.mean(linear_filtrado))\n",
    "print(\"E) A diferença entre A) e D) é {:.3e}\\n   A diferença entre B) e D) é {:.3e}\\n   A diferença entre C) e D) é {:.3e}\\n   Logo o resultado de C) é o que mais concorda com D)\".format(a_d, b_d, c_d))\n",
    "a_d=abs(np.mean(linear) - d_h)\n",
    "b_d=abs(np.median(linear) - d_h)\n",
    "c_d=abs(ponderada - d_h)\n",
    "print(\"F) A diferença entre A) e Fields et. al (2020) é {:.3e}\\n   A diferença entre B) e Fields et. al (2020) é {:.3e}\\n   A diferença entre C) e Fields et. al (2020) é {:.3e}\\n   Logo o resultado de B) é o que mais concorda com Fields et. al (2020)\".format(a_d, b_d, c_d))\n",
    "\n",
    "soma=bbn['log(D/H)']+bbn['errlog(D/H)']\n",
    "linear_soma=10**(np.array(soma))\n",
    "bbn['err(D/H)']=abs(linear_soma-linear)\n",
    "\n",
    "g1=plt.figure(figsize=(8,5))\n",
    "plt.errorbar(np.array(bbn['[O/H]']), linear, yerr=np.array(bbn['err(D/H)']), marker='o', linestyle='', markersize=4, color='xkcd:blue', label='Kislitsyn et al. (2024)')\n",
    "plt.xlabel('[O/H]', fontsize=13)\n",
    "plt.ylabel(r'D/H', fontsize=13)\n",
    "plt.hlines(d_h,-2.9, -0.7, color='xkcd:red', label='Fields et. al. (2020)')\n",
    "plt.hlines(d_h+0.13e-5,-2.9, -0.7, color='xkcd:red', linestyles='dashed', linewidth=1)\n",
    "plt.hlines(d_h-0.13e-5,-2.9, -0.7, color='xkcd:red', linestyles='dashed', linewidth=1)\n",
    "plt.hlines(np.mean(linear),-2.9, -0.7, color='xkcd:green', label='Result obtained in F)', linewidth=1)\n",
    "plt.xlim(-2.9, -0.7)\n",
    "plt.ylim(0.6e-5, 4.25e-5)\n",
    "plt.legend(loc='lower right')\n",
    "plt.show()"
   ]
  },
  {
   "cell_type": "markdown",
   "metadata": {},
   "source": [
    "Dors et al. (2022, https://ui.adsabs.harvard.edu/abs/2022MNRAS.514.5506D/abstract) estimated the\n",
    "⁴$\\text{He}$ abundances in both Seyfert galaxies and extragalactic star forming (SF) regions. Use the SF results\n",
    "given in their table A3 (https://academic.oup.com/view-large/365429778), to estimate the primordial ⁴$\\text{He}$ abundance, by performing a linear fit of $n(⁴\\text{He})/n(\\text{H})$. Notice that you first have to convert the log abundances given in columns 5 (oxygen) and 9 (helium) to the linear scale. The linear fit must be performed considering both error bars (in oxygen and helium). Give your resulting primordial He\n",
    "abundance and error bars in:\n",
    "\n",
    "A) linear scale, n(He)/n(H)\n",
    "\n",
    "B) log scale, A(He)\n",
    "\n",
    "C) mass fraction, Y\n",
    "\n",
    "D) How your primordial A(He) compares with:\n",
    "\n",
    "D1) the predicted primordial BBN 4He abundance (does it agree within the errors?)\n",
    "\n",
    "D2) The solar He abundance from Asplund et al. (2021), A(He) = 10.914+/-0.013. If the abundances do not agree within the errors, explain the possible reason for the mismatch."
   ]
  },
  {
   "cell_type": "code",
   "execution_count": null,
   "metadata": {},
   "outputs": [
    {
     "name": "stdout",
     "output_type": "stream",
     "text": [
      "79.91054902724103 0.07437714125305214\n"
     ]
    },
    {
     "data": {
      "image/png": "[encoded data removed]",
      "text/plain": [
       "<Figure size 576x360 with 1 Axes>"
      ]
     },
     "metadata": {
      "needs_background": "light"
     },
     "output_type": "display_data"
    },
    {
     "name": "stdout",
     "output_type": "stream",
     "text": [
      "Beta: [7.53348316e+01 7.11238995e-02]\n",
      "Beta Std Error: [6.78276466e+00 1.97109691e-03]\n",
      "Beta Covariance: [[ 1.05443985e+00 -2.24347782e-04]\n",
      " [-2.24347782e-04  8.90480208e-08]]\n",
      "Residual Variance: 43.63065020594856\n",
      "Inverse Condition #: 0.2081926902145452\n",
      "Reason(s) for Halting:\n",
      "  Sum of squares convergence\n"
     ]
    }
   ],
   "source": [
    "import scipy.odr as odrpack\n",
    "\n",
    "def abundance_converter(data, error, data_type, convert_into):\n",
    "    #Function that converts an abundance given in n_x/n_H, A(X)\n",
    "    \"\"\"\"\n",
    "    ARGUMENTS\n",
    "    data:vector containing data points\n",
    "    error: error associated with data\n",
    "    data_type: n_x/n_H (linear), A(X) (log)\n",
    "    convert_into: desired abundance notation to be returned, n_x/n_H, A(X)\n",
    "\n",
    "    OUTPUT\n",
    "    converted: vector containing converter data points\n",
    "    error_converted: vector containing converted errors\n",
    "    \"\"\"\n",
    "    if(data_type == 'linear'):\n",
    "        if(convert_into == 'log'): \n",
    "            error=np.log10(np.array(data)+np.array(error))+12\n",
    "            data=np.log10(np.array(data))+12\n",
    "            error=abs(error-data)\n",
    "            return data, error\n",
    "        else: raise NameError('Bad data_type or convert_into argument')\n",
    "    elif(data_type == 'log'):\n",
    "        if(convert_into == 'linear'):\n",
    "            error=(10**(-12))*(10**(np.array(data)+np.array(error)))\n",
    "            data=(10**(-12))*(10**(np.array(data)))\n",
    "            error=abs(error-data)\n",
    "            return data, error\n",
    "        else: raise NameError('Bad convert_into argument (try linear or log)')\n",
    "    else: raise NameError('Bad data_type argument (try linear or log)')\n",
    "\n",
    "def f(B, x): return B[0]*x + B[1]\n",
    "x=np.arange(0.0001, 0.0013, 0.00001)\n",
    "\n",
    "seyfert_sf=pd.read_csv('seyfert_and_sf_data.csv')\n",
    "\n",
    "o_h, err_o_h= abundance_converter(seyfert_sf['o_h'], seyfert_sf['erro(o_h)'], data_type='log', convert_into='linear')\n",
    "he_h, err_he_h=abundance_converter(seyfert_sf['+he_h'], seyfert_sf['erro(+he_h)'], data_type='log', convert_into='linear')\n",
    "\n",
    "\n",
    "linear=odrpack.Model(f)\n",
    "data=odrpack.RealData(o_h, he_h, sx=err_o_h, sy=err_he_h)\n",
    "a,b=np.polyfit(o_h, he_h, 1)\n",
    "print(a,b)\n",
    "odr=odrpack.ODR(data, linear, beta0=[80,0.07])\n",
    "output=odr.run()\n",
    "\n",
    "g2=plt.figure(figsize=(8,5))\n",
    "plt.errorbar(o_h, he_h, xerr=err_o_h, yerr=err_he_h, marker='o', markersize=4, linestyle='', color='xkcd:blue', elinewidth=1, label=\"S2 and SF Data\")\n",
    "plt.plot(x, f([a,b], x), linewidth=1.5, color='xkcd:orange', label='Polyfit a={:.3f}, b={:.3f}'.format(a,b))\n",
    "plt.plot(x, f([output.beta[0],output.beta[1]], x), linewidth=1.5, color='xkcd:red', label='ODR a={:.3f}, b={:.3f}'.format(output.beta[0],output.beta[1]))\n",
    "plt.xlabel(r'\\frac{n}{}', fontsize=13)\n",
    "plt.ylabel(r'D/H', fontsize=13)\n",
    "plt.legend()\n",
    "plt.show()\n",
    "\n",
    "output.pprint()\n",
    "\n",
    "\n",
    "\n"
   ]
  },
  {
   "cell_type": "code",
   "execution_count": null,
   "metadata": {},
   "outputs": [],
   "source": []
  }
 ],
 "metadata": {
  "kernelspec": {
   "display_name": "Python 3",
   "language": "python",
   "name": "python3"
  },
  "language_info": {
   "codemirror_mode": {
    "name": "ipython",
    "version": 3
   },
   "file_extension": ".py",
   "mimetype": "text/x-python",
   "name": "python",
   "nbconvert_exporter": "python",
   "pygments_lexer": "ipython3",
   "version": "3.10.12"
  }
 },
 "nbformat": 4,
 "nbformat_minor": 2
}
